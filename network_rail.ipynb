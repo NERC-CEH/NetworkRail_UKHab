{
 "cells": [
  {
   "cell_type": "markdown",
   "id": "5d149e1d",
   "metadata": {},
   "source": [
    "# Network Rail Land Cover Analyses"
   ]
  },
  {
   "cell_type": "markdown",
   "id": "56b56a6c-fa3f-41bc-b179-6492193b2920",
   "metadata": {},
   "source": [
    "This notebook is used to produce annual Network Rail (NR) outputs:\n",
    "\n",
    "1. Each year the latest land cover 10m land cover map should be clipped by a 1km buffer (i.e., 500m either side of land owned by NR).  \n",
    "2. A summary of habitats contained within land owned by network rail, orgainsed into NR Maintenance Delivery Units (MDUs).\n",
    "\n",
    "Some comments are included but processing steps are mostly self explanatory.\n",
    "\n",
    "This notebook is version x1.0_0.  "
   ]
  },
  {
   "cell_type": "markdown",
   "id": "72745ba5",
   "metadata": {},
   "source": [
    "Import the libraries"
   ]
  },
  {
   "cell_type": "code",
   "execution_count": null,
   "id": "02f6540f-17fe-449e-87cf-7627e14acc95",
   "metadata": {},
   "outputs": [],
   "source": [
    "import gc\n",
    "import rasterio\n",
    "import rasterio.plot\n",
    "import pyproj\n",
    "import numpy as np\n",
    "import matplotlib\n",
    "import matplotlib.pyplot as plt\n",
    "import geopandas as gpd\n",
    "from osgeo import gdal\n",
    "from osgeo import ogr\n",
    "import tkinter as tk\n",
    "from tkinter import filedialog\n",
    "import os\n",
    "import numpy as np"
   ]
  },
  {
   "cell_type": "markdown",
   "id": "b51a16d5-45a2-4821-807b-934eaafa4980",
   "metadata": {},
   "source": [
    "Choose a directory for your results"
   ]
  },
  {
   "cell_type": "code",
   "execution_count": null,
   "id": "33b9588f-4b96-4e17-bf72-ec0dddffdfc1",
   "metadata": {},
   "outputs": [],
   "source": [
    "root = tk.Tk()\n",
    "root.attributes('-topmost', True)\n",
    "root.iconify()\n",
    "\n",
    "filepath = filedialog.askdirectory(parent=root) + '/'\n",
    "\n",
    "root.destroy()\n",
    "\n",
    "print(filepath)\n",
    "\n",
    "#make a temp and an output directory beneath this\n",
    "tempdir = filepath + 'temp'\n",
    "if not os.path.exists(tempdir):\n",
    "    os.makedirs(tempdir)\n",
    "resultsdir = filepath + 'results'\n",
    "if not os.path.exists(resultsdir):\n",
    "    os.makedirs(resultsdir)"
   ]
  },
  {
   "cell_type": "markdown",
   "id": "27551cc6",
   "metadata": {},
   "source": [
    "Specify the network rail ownership shape file.  This file will be supplied by NR.  Before proceeding with analyses confirm that you have the correct file."
   ]
  },
  {
   "cell_type": "code",
   "execution_count": null,
   "id": "b2ed9221-d508-4383-870a-fb5b9042c048",
   "metadata": {},
   "outputs": [],
   "source": [
    "root = tk.Tk()\n",
    "root.attributes('-topmost', True)\n",
    "root.iconify()\n",
    "\n",
    "\n",
    "#shapefile = filedialog.askopenfilename(initialdir=filepath,multiple=False)\n",
    "shapefile = filedialog.askopenfilename(\n",
    "    initialdir=filepath, multiple=False,\n",
    "    filetypes=(\n",
    "        (\"Shapefiles\", \"*.shp\"),\n",
    "        (\"All Files\", \"*.*\")\n",
    "    )\n",
    ")\n",
    "\n",
    "root.destroy()\n",
    "print (shapefile)"
   ]
  },
  {
   "cell_type": "markdown",
   "id": "5afc8fc3-b3b4-4802-b317-8979d600a9f5",
   "metadata": {},
   "source": [
    "Specify the land cover map"
   ]
  },
  {
   "cell_type": "code",
   "execution_count": null,
   "id": "631b06fd-33b9-4a5e-af02-9244146e857a",
   "metadata": {},
   "outputs": [],
   "source": [
    "root = tk.Tk()\n",
    "root.attributes('-topmost', True)\n",
    "root.iconify()\n",
    "\n",
    "lcmfile = filedialog.askopenfilename(\n",
    "    initialdir=filepath, multiple=False,\n",
    "    filetypes=(\n",
    "        (\"Tiff files\", \"*.tif\"),\n",
    "        (\"All Files\", \"*.*\")\n",
    "    )\n",
    ")\n",
    "\n",
    "root.destroy()\n",
    "print (lcmfile)"
   ]
  },
  {
   "cell_type": "markdown",
   "id": "3fd190d3-739f-4238-98c9-599b77312c57",
   "metadata": {},
   "source": [
    "Create a 1km buffer about Network Rail's land"
   ]
  },
  {
   "cell_type": "code",
   "execution_count": null,
   "id": "4d9b322b",
   "metadata": {},
   "outputs": [],
   "source": [
    "ownership = gpd.read_file(shapefile)\n",
    "buffered = ownership.buffer(500)\n",
    "buffered.plot()"
   ]
  },
  {
   "cell_type": "markdown",
   "id": "253a212e",
   "metadata": {},
   "source": [
    "Create a raster from the buffered vector.  This will be used to truncate the LCM."
   ]
  },
  {
   "cell_type": "code",
   "execution_count": null,
   "id": "34126a6d",
   "metadata": {},
   "outputs": [],
   "source": [
    "buffered.to_file(f\"{tempdir}/buffered.shp\", driver='ESRI Shapefile')"
   ]
  },
  {
   "cell_type": "markdown",
   "id": "3d3ccb35-5ab8-499f-afcb-df5d7abcabff",
   "metadata": {},
   "source": [
    "Create a binary mask: 1 for the buffer, 0 for everything else.  Note, allTouched=True includes any raster that is touched by a geometry."
   ]
  },
  {
   "cell_type": "code",
   "execution_count": null,
   "id": "49be7a90-aed6-4f85-bd21-ab4eb5ec399f",
   "metadata": {},
   "outputs": [],
   "source": [
    "NoData_value = 0\n",
    "buffer1k = tempdir + \"/buffered_1k.tif\"\n",
    "shape_file = tempdir + \"/buffered.shp\"\n",
    "ds = gdal.Rasterize(buffer1k, shape_file, xRes=10, yRes=10, \n",
    "                    burnValues=1, outputBounds=[0.0, 0.0, 700000, 1300000], allTouched=True,\n",
    "                    outputType=gdal.GDT_Byte,noData=NoData_value)\n",
    "ds = None"
   ]
  },
  {
   "cell_type": "markdown",
   "id": "9ed488e8-cdf9-40c8-a111-0360755ba6ce",
   "metadata": {},
   "source": [
    "Read the LCM and the buffer into memory.  Multiply the buffer by the LCM.  This will 'clip' the LCM to the NR buffer.  Be patient :)!  This might be a good time to have a cup of tea."
   ]
  },
  {
   "cell_type": "code",
   "execution_count": null,
   "id": "9406ec9a-9a94-4549-a7f5-cc0677b3ba8e",
   "metadata": {},
   "outputs": [],
   "source": [
    "raster_a = rasterio.open(lcmfile).read()\n",
    "raster_b = rasterio.open(buffer1k).read()\n",
    "raster_c = raster_a * raster_b\n",
    "#You'll need to try and free a bit of memory after that monster multiplication\n",
    "del raster_a\n",
    "del raster_b\n",
    "del buffered\n",
    "gc.collect"
   ]
  },
  {
   "cell_type": "markdown",
   "id": "9f2caa0c-65e7-48cd-9984-797be24eab93",
   "metadata": {},
   "source": [
    "raster_c is an array.  We need to convert this into a raster and write it to a file.\n",
    "For this we need:\n",
    "driver, width, height, count (=num bands), dtype (datatype) crs, and transform "
   ]
  },
  {
   "cell_type": "code",
   "execution_count": null,
   "id": "057ef946-f7bf-44eb-93b6-19a6bdda74d4",
   "metadata": {},
   "outputs": [],
   "source": [
    "driver = \"GTiff\"\n",
    "print (\"driver = \", driver)\n",
    "dim = raster_c.shape\n",
    "print (\"dim = \", dim)\n",
    "height = dim[1]\n",
    "print (\"height = \", height)\n",
    "width = dim[2]\n",
    "print (\"width = \", width)\n",
    "nbands = dim[0] \n",
    "print (\"nbands = \", nbands)\n",
    "datatype = raster_c.dtype\n",
    "print(\"dtype = \", datatype)\n",
    "from rasterio.crs import CRS\n",
    "crs = CRS.from_epsg(27700)\n",
    "print (\"crs = \", crs);\n",
    "from rasterio.transform import from_origin\n",
    "transform = from_origin(0,1300000,10,10)\n",
    "print (\"transform = \", transform)"
   ]
  },
  {
   "cell_type": "code",
   "execution_count": null,
   "id": "78728fc1-d464-4347-8904-cea37a78685d",
   "metadata": {
    "scrolled": true
   },
   "outputs": [],
   "source": [
    "head, tail = os.path.split(lcmfile)\n",
    "with rasterio.open(resultsdir + \"/clipped_\" + tail, \"w\",\n",
    "                  driver=driver,\n",
    "                  height=height,\n",
    "                  width=width,\n",
    "                  dtype=datatype,\n",
    "                  count=nbands,\n",
    "                  crs=crs,\n",
    "                  transform=transform) as dst:\n",
    "    dst.write(raster_c)"
   ]
  },
  {
   "cell_type": "markdown",
   "id": "e2b785a1-4564-4fb5-832f-a081d6b5654c",
   "metadata": {},
   "source": [
    "Free up the memory"
   ]
  },
  {
   "cell_type": "code",
   "execution_count": null,
   "id": "147d82d3-575d-4f45-9b79-31327cce9aa8",
   "metadata": {},
   "outputs": [],
   "source": [
    "del dst\n",
    "del raster_c\n",
    "gc.collect"
   ]
  },
  {
   "cell_type": "markdown",
   "id": "9e0dcfbb-9660-4441-abc0-de45e39fbad3",
   "metadata": {},
   "source": [
    "Calculate the zonal statistics. The next step will take quite a while. Use this time gift to delete some emails"
   ]
  },
  {
   "cell_type": "code",
   "execution_count": null,
   "id": "5a3a52e9-073d-4e8c-9479-2bdacb5619bc",
   "metadata": {},
   "outputs": [],
   "source": [
    "from rasterstats import zonal_stats\n",
    "cmap = {1: '_01_dec', 2: '_02_con', 3: '_03_ara', 4: '_04_imp', 5: '_05_neu', 6: '_06_cal', 7: '_07_aci', 8: '_08_fen', 9: '_09_hea', 10: '_10_heg', 11: '_11_bog', 12: '_12_inl', 13: '_13_swa', 14: '_14_fwa', 15: '_15_slr', 16: '_16_sls', 17: '_17_lro', 18: '_18_lse', 19: '_19_sma', 20: '_20_urb', 21: '_21_sub'}\n",
    "zs = zonal_stats(vectors=ownership['geometry'], raster=lcmfile, categorical=True, category_map=cmap)"
   ]
  },
  {
   "cell_type": "markdown",
   "id": "4599a4e2-516c-4a6c-ac24-5f77d6ad9a1f",
   "metadata": {},
   "source": [
    "Export zonal statistics to a shapefile by Attaching the pixel counts to each object"
   ]
  },
  {
   "cell_type": "code",
   "execution_count": null,
   "id": "2c306477-2b7d-46b4-9fa5-7ba62a063cfb",
   "metadata": {},
   "outputs": [],
   "source": [
    "import pandas as pd\n",
    "stats = pd.DataFrame(zs).fillna(0)\n",
    "stats = stats.reindex(sorted(stats.columns), axis=1)\n",
    "results = pd.merge(left=ownership, right=stats, how='left', left_index=True, right_index=True)\n",
    "head, tail = os.path.split(shapefile)\n",
    "results.to_file(resultsdir + '/' + 'pixel_count_' + tail)"
   ]
  },
  {
   "cell_type": "markdown",
   "id": "51fc7a8f-6f83-4fdf-a1e6-be7fc3c8b6b1",
   "metadata": {},
   "source": [
    "Group the zonal statistics and export to a CSV"
   ]
  },
  {
   "cell_type": "raw",
   "id": "16104d1f-95e4-44d9-b281-462b365d8eb2",
   "metadata": {},
   "source": [
    "I used to load the shapefile into postgresql and do the following sql query.  This gives breakdown of habitat per MDU and can be exported as csv for analysis in excel.  Below pandas and numpy replicate this.\n",
    "select region_nam, route_name, mdu_name, \n",
    "sum(_01_dec) as decid, \n",
    "sum(_02_con) as conifer,\n",
    "sum(_03_ara) as arable,\n",
    "sum(_04_imp) as improved_grass,\n",
    "sum(_05_neu) as neutral_grass,\n",
    "sum(_06_cal) as calc_grass,\n",
    "sum(_07_aci) as acid_grass,\n",
    "sum(_08_fen) as fen,\n",
    "sum(_09_hea) as shrub_heath,\n",
    "sum(_10_heg) as heather_grass,\n",
    "sum(_11_bog) as bog,\n",
    "sum(_12_inl) as bare,\n",
    "sum(_13_swa) as sea,\n",
    "sum(_14_fwa) as water,\n",
    "sum(_15_slr) as supra_rock,\n",
    "sum(_16_sls) as supra_sed,\n",
    "sum(_17_lro) as lit_rock,\n",
    "sum(_18_lse) as list_sed,\n",
    "sum(_19_sma) as saltmarsh,\n",
    "sum(_20_urb) as urban,\n",
    "sum(_21_sub) as suburban\n",
    "from pixel_count_valid_nr_ownership_mdu_routes group by region_nam, route_name, mdu_name;"
   ]
  },
  {
   "cell_type": "code",
   "execution_count": null,
   "id": "1bc7bdc1-12b1-443d-9258-87570a30c51e",
   "metadata": {},
   "outputs": [],
   "source": [
    "summary = results.groupby([\"REGION_NAM\",\"ROUTE_NAME\", \"MDU_NAME\"]).agg({\"_01_dec\":np.sum, \"_02_con\":np.sum, \"_03_ara\":np.sum, \"_04_imp\":np.sum, \"_05_neu\":np.sum,\n",
    "                                                             \"_06_cal\":np.sum, \"_07_aci\":np.sum, \"_08_fen\":np.sum, \"_09_hea\":np.sum, \"_10_heg\":np.sum,\n",
    "                                                             \"_11_bog\":np.sum, \"_12_inl\":np.sum, \"_13_swa\":np.sum, \"_14_fwa\":np.sum, \"_15_slr\":np.sum,\n",
    "                                                             \"_16_sls\":np.sum, \"_17_lro\":np.sum, \"_18_lse\":np.sum, \"_19_sma\":np.sum, \"_20_urb\":np.sum,\n",
    "                                                             \"_21_sub\":np.sum})\n",
    "summary"
   ]
  },
  {
   "cell_type": "markdown",
   "id": "c16fb8f5-0d98-48d8-b4cd-865d1a556aa8",
   "metadata": {},
   "source": [
    "Now give birth to a CSV table"
   ]
  },
  {
   "cell_type": "code",
   "execution_count": null,
   "id": "974a5a6e-55ec-4a49-ba92-0c0003d08136",
   "metadata": {},
   "outputs": [],
   "source": [
    "head, tail = os.path.split(lcmfile)\n",
    "csv = resultsdir + \"/mdu_summmary_\" + os.path.splitext(tail)[0]+\".csv\"\n",
    "summary.to_csv(csv)"
   ]
  },
  {
   "cell_type": "markdown",
   "id": "6718d249-dd75-4713-94c6-4f9029f034f1",
   "metadata": {},
   "source": [
    "You have finished. Well done!"
   ]
  }
 ],
 "metadata": {
  "kernelspec": {
   "display_name": "Python 3 (ipykernel)",
   "language": "python",
   "name": "python3"
  },
  "language_info": {
   "codemirror_mode": {
    "name": "ipython",
    "version": 3
   },
   "file_extension": ".py",
   "mimetype": "text/x-python",
   "name": "python",
   "nbconvert_exporter": "python",
   "pygments_lexer": "ipython3",
   "version": "3.9.16"
  }
 },
 "nbformat": 4,
 "nbformat_minor": 5
}
